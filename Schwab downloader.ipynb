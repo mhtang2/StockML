{
 "cells": [
  {
   "cell_type": "code",
   "execution_count": 1,
   "metadata": {},
   "outputs": [],
   "source": [
    "import requests\n",
    "import pandas as pd\n",
    "import numpy as np\n",
    "import io\n",
    "from datetime import date, timedelta, datetime, timezone\n",
    "import time\n",
    "import pytz\n",
    "import json\n",
    "from os import path\n",
    "from urllib.parse import unquote\n",
    "import base64"
   ]
  },
  {
   "cell_type": "code",
   "execution_count": 2,
   "metadata": {},
   "outputs": [],
   "source": [
    "with open(\"./apikeys.key\") as APIfp:\n",
    "    obj = json.load(APIfp)\n",
    "    # financialKey = obj['financialAPI']\n",
    "    SchwabConsumer = obj[\"Schwab_consumer\"]\n",
    "    SchwabSecret = obj[\"Schwab_secret\"]\n",
    "    SchwabRefresh = obj['Schwab_refresh']"
   ]
  },
  {
   "cell_type": "code",
   "execution_count": 3,
   "metadata": {},
   "outputs": [],
   "source": [
    "def retrieveTDAuthToken():\n",
    "    \"\"\"Get auth token using refresh token\"\"\"\n",
    "    client_encoded = base64.b64encode(f\"{SchwabConsumer}:{SchwabSecret}\".encode(\"utf-8\")).decode(\"utf-8\")\n",
    "    r = requests.post(\"https://api.schwabapi.com/v1/oauth/token\",\n",
    "    headers={\n",
    "        \"Authorization\": f\"Basic {client_encoded}\",\n",
    "        \"Content-Type\": 'application/x-www-form-urlencoded',},\n",
    "    data={\n",
    "        'grant_type': 'refresh_token',\n",
    "        'refresh_token': SchwabRefresh,\n",
    "        'redirect_uri':'https://127.0.0.1'\n",
    "\n",
    "    })\n",
    "    if r.status_code != 200:\n",
    "        print(\"Error getting TD auth code\")\n",
    "        print(r.content)\n",
    "    else:\n",
    "        print(\"success retrieving token\")\n",
    "    global TDAuthToken, TDAuthExpire\n",
    "    TDAuthToken = json.loads(r.text)[\"access_token\"]\n",
    "    TDAuthExpire = datetime.now() + timedelta(minutes=29)\n"
   ]
  },
  {
   "cell_type": "code",
   "execution_count": 5,
   "metadata": {},
   "outputs": [
    {
     "name": "stdout",
     "output_type": "stream",
     "text": [
      "success retrieving token\n",
      "I0.b2F1dGgyLmNkYy5zY2h3YWIuY29t.lcrJ3lyxK8GpWU04SgeuCRkY7pg4tDrTFXoyeJ6miLk@\n"
     ]
    }
   ],
   "source": [
    "retrieveTDAuthToken()\n",
    "print(TDAuthToken)"
   ]
  },
  {
   "cell_type": "code",
   "execution_count": 22,
   "metadata": {},
   "outputs": [],
   "source": [
    "def getSymbolsTD(arr: list, directory=\"data\", freqType=\"minute\", periodType=\"day\", freq=1, period=5, endDate=None, daysBack=0, save=True,\n",
    "                 disableDelay=False, datedFileName=False):\n",
    "    if endDate is None:\n",
    "        # Calculate end time as now, or previous close if it is past close\n",
    "        prevclose = datetime.now(tz=pytz.timezone(\"America/New_York\"))\n",
    "        if prevclose.hour < 4:\n",
    "            prevclose -= timedelta(days=1)\n",
    "        endDateStamp = 1000 * int(min(time.time(), prevclose.timestamp()))\n",
    "        endDate = datetime.fromtimestamp(endDateStamp / 1e3)\n",
    "    else:\n",
    "        endDateStamp = 1000 * int(endDate.timestamp())\n",
    "    if daysBack > 0 and endDate.weekday() < daysBack:\n",
    "        daysBack += 2\n",
    "    startDateStamp = endDateStamp - (daysBack * 86400000)\n",
    "\n",
    "    res = {}\n",
    "    count = 0\n",
    "    errors = 0\n",
    "    for sym in arr:\n",
    "        count += 1\n",
    "        if not disableDelay:\n",
    "            print(f\"Downloading  {sym}\", end=\" \")\n",
    "        fileName = f\"{directory}/{sym}{endDate.strftime('%m-%d-%Y') if datedFileName else ''}.csv\"\n",
    "        if save and path.exists(fileName):\n",
    "            print(\"File exists\")\n",
    "            continue\n",
    "        if not disableDelay:\n",
    "            print(\"\")\n",
    "        nextRun = time.time() + 0.51\n",
    "        r = requests.get(\"https://api.schwabapi.com/marketdata/v1/pricehistory\",\n",
    "                         headers={\"Authorization\": f\"Bearer {TDAuthToken}\"},\n",
    "                         params={\n",
    "                             \"symbol\":sym,\n",
    "                             \"periodType\": periodType,\n",
    "                             \"frequencyType\": freqType,\n",
    "                             \"frequency\": freq,\n",
    "                             # In place of end start\n",
    "                             \"period\": period\n",
    "                             #  \"needExtendedHoursData\": \"true\",\n",
    "                             #  \"endDate\": endDateStamp,\n",
    "                             #  \"startDate\": startDateStamp,\n",
    "                         })\n",
    "        if r.status_code == 200:\n",
    "            try:\n",
    "                obj = json.loads(r.text)\n",
    "                df = pd.DataFrame(obj[\"candles\"])\n",
    "                df[\"datetime\"] = pd.to_datetime(df['datetime'], unit='ms').dt.tz_localize(\n",
    "                    'UTC').dt.tz_convert('America/New_York')\n",
    "                if save:\n",
    "                    df.to_csv(fileName, index=False)\n",
    "                else:\n",
    "                    res[sym] = df\n",
    "            except Exception as e:\n",
    "                print(\"Download Error \", sym)\n",
    "                print(e)\n",
    "                errors += 1\n",
    "        else:\n",
    "            print(f\"Download Error {sym} \\n {r.text}\")\n",
    "            errors += 1\n",
    "        sleepDur = nextRun - time.time()\n",
    "        if sleepDur > 0 and not disableDelay:\n",
    "            time.sleep(sleepDur)\n",
    "    print(f\"Total #errors {errors}\")\n",
    "    if not save:\n",
    "        return res"
   ]
  },
  {
   "cell_type": "code",
   "execution_count": 25,
   "metadata": {},
   "outputs": [
    {
     "name": "stdout",
     "output_type": "stream",
     "text": [
      "Downloading  AAPL File exists\n",
      "Total #errors 0\n"
     ]
    }
   ],
   "source": [
    "getSymbolsTD(['AAPL'], directory=\"./\", freqType=\"minute\", periodType=\"day\", period=10)"
   ]
  },
  {
   "cell_type": "code",
   "execution_count": null,
   "metadata": {},
   "outputs": [],
   "source": []
  }
 ],
 "metadata": {
  "kernelspec": {
   "display_name": "Python 3",
   "language": "python",
   "name": "python3"
  },
  "language_info": {
   "codemirror_mode": {
    "name": "ipython",
    "version": 3
   },
   "file_extension": ".py",
   "mimetype": "text/x-python",
   "name": "python",
   "nbconvert_exporter": "python",
   "pygments_lexer": "ipython3",
   "version": "3.11.2"
  }
 },
 "nbformat": 4,
 "nbformat_minor": 2
}
