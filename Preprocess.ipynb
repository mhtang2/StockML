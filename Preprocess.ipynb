{
 "cells": [
  {
   "cell_type": "code",
   "execution_count": 6,
   "id": "6eedc84d-e0f7-40f7-81ba-427f804f3d6c",
   "metadata": {},
   "outputs": [],
   "source": [
    "import pandas as pd\n",
    "import os"
   ]
  },
  {
   "cell_type": "code",
   "execution_count": 8,
   "id": "c4c670d0-5f42-46d8-bd36-f1f263144027",
   "metadata": {},
   "outputs": [],
   "source": [
    "syms = os.listdir(\"./data_daily_5y/\")\n",
    "syms = list(map(lambda x: x.split(\".csv\")[0],syms))\n",
    "data = []\n",
    "for name in syms:\n",
    "    df = pd.read_csv(f\"./data_daily_5y/{name}.csv\")\n",
    "    if df.shape[0] < 1000:\n",
    "        continue\n",
    "    df['name']=name\n",
    "    data.append(df)\n",
    "data = pd.concat(data)\n",
    "data.to_csv(\"./all5y.csv\",index=False)"
   ]
  },
  {
   "cell_type": "code",
   "execution_count": null,
   "id": "4044adac-9343-4e28-b2ea-90554a3d5039",
   "metadata": {},
   "outputs": [],
   "source": []
  }
 ],
 "metadata": {
  "kernelspec": {
   "display_name": "Python 3 (ipykernel)",
   "language": "python",
   "name": "python3"
  },
  "language_info": {
   "codemirror_mode": {
    "name": "ipython",
    "version": 3
   },
   "file_extension": ".py",
   "mimetype": "text/x-python",
   "name": "python",
   "nbconvert_exporter": "python",
   "pygments_lexer": "ipython3",
   "version": "3.10.4"
  }
 },
 "nbformat": 4,
 "nbformat_minor": 5
}
