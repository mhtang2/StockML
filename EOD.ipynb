{
 "cells": [
  {
   "cell_type": "code",
   "execution_count": 99,
   "metadata": {},
   "outputs": [],
   "source": [
    "import numpy as np\n",
    "import pandas as pd\n",
    "from utils import df_filter_times,Position,Heap\n",
    "from matplotlib import pyplot as plt"
   ]
  },
  {
   "cell_type": "code",
   "execution_count": 100,
   "metadata": {},
   "outputs": [],
   "source": [
    "df_all = pd.read_csv(\"./data/1m-10d.csv\",parse_dates=[\"datetime\"])\n",
    "df_market = df_filter_times(df_all).copy()"
   ]
  },
  {
   "cell_type": "code",
   "execution_count": 1,
   "metadata": {},
   "outputs": [
    {
     "ename": "NameError",
     "evalue": "name 'df_market' is not defined",
     "output_type": "error",
     "traceback": [
      "\u001b[0;31m---------------------------------------------------------------------------\u001b[0m",
      "\u001b[0;31mNameError\u001b[0m                                 Traceback (most recent call last)",
      "Cell \u001b[0;32mIn[1], line 1\u001b[0m\n\u001b[0;32m----> 1\u001b[0m df_market[\u001b[38;5;124m'\u001b[39m\u001b[38;5;124mdate\u001b[39m\u001b[38;5;124m'\u001b[39m] \u001b[38;5;241m=\u001b[39m df_market[\u001b[38;5;124m'\u001b[39m\u001b[38;5;124mdatetime\u001b[39m\u001b[38;5;124m'\u001b[39m]\u001b[38;5;241m.\u001b[39mdt\u001b[38;5;241m.\u001b[39mdate\n",
      "\u001b[0;31mNameError\u001b[0m: name 'df_market' is not defined"
     ]
    }
   ],
   "source": [
    "df_market['date'] = df_market['datetime'].dt.date"
   ]
  },
  {
   "cell_type": "code",
   "execution_count": 116,
   "metadata": {},
   "outputs": [
    {
     "data": {
      "text/html": [
       "<div>\n",
       "<style scoped>\n",
       "    .dataframe tbody tr th:only-of-type {\n",
       "        vertical-align: middle;\n",
       "    }\n",
       "\n",
       "    .dataframe tbody tr th {\n",
       "        vertical-align: top;\n",
       "    }\n",
       "\n",
       "    .dataframe thead th {\n",
       "        text-align: right;\n",
       "    }\n",
       "</style>\n",
       "<table border=\"1\" class=\"dataframe\">\n",
       "  <thead>\n",
       "    <tr style=\"text-align: right;\">\n",
       "      <th></th>\n",
       "      <th></th>\n",
       "      <th></th>\n",
       "      <th>open</th>\n",
       "      <th>high</th>\n",
       "      <th>low</th>\n",
       "      <th>close</th>\n",
       "      <th>volume</th>\n",
       "      <th>datetime</th>\n",
       "      <th>price_diff</th>\n",
       "    </tr>\n",
       "    <tr>\n",
       "      <th>name</th>\n",
       "      <th>date</th>\n",
       "      <th></th>\n",
       "      <th></th>\n",
       "      <th></th>\n",
       "      <th></th>\n",
       "      <th></th>\n",
       "      <th></th>\n",
       "      <th></th>\n",
       "      <th></th>\n",
       "    </tr>\n",
       "  </thead>\n",
       "  <tbody>\n",
       "    <tr>\n",
       "      <th rowspan=\"5\" valign=\"top\">A</th>\n",
       "      <th rowspan=\"5\" valign=\"top\">2024-04-08</th>\n",
       "      <th>222111</th>\n",
       "      <td>143.800</td>\n",
       "      <td>144.360</td>\n",
       "      <td>143.010</td>\n",
       "      <td>143.600</td>\n",
       "      <td>18409</td>\n",
       "      <td>2024-04-08 09:30:00-04:00</td>\n",
       "      <td>0.960</td>\n",
       "    </tr>\n",
       "    <tr>\n",
       "      <th>222112</th>\n",
       "      <td>143.985</td>\n",
       "      <td>143.985</td>\n",
       "      <td>143.390</td>\n",
       "      <td>143.720</td>\n",
       "      <td>2000</td>\n",
       "      <td>2024-04-08 09:31:00-04:00</td>\n",
       "      <td>0.840</td>\n",
       "    </tr>\n",
       "    <tr>\n",
       "      <th>222113</th>\n",
       "      <td>143.720</td>\n",
       "      <td>144.540</td>\n",
       "      <td>143.720</td>\n",
       "      <td>144.540</td>\n",
       "      <td>2300</td>\n",
       "      <td>2024-04-08 09:32:00-04:00</td>\n",
       "      <td>0.020</td>\n",
       "    </tr>\n",
       "    <tr>\n",
       "      <th>222114</th>\n",
       "      <td>144.900</td>\n",
       "      <td>145.200</td>\n",
       "      <td>144.570</td>\n",
       "      <td>145.150</td>\n",
       "      <td>9806</td>\n",
       "      <td>2024-04-08 09:33:00-04:00</td>\n",
       "      <td>-0.590</td>\n",
       "    </tr>\n",
       "    <tr>\n",
       "      <th>222115</th>\n",
       "      <td>144.805</td>\n",
       "      <td>145.790</td>\n",
       "      <td>144.805</td>\n",
       "      <td>145.570</td>\n",
       "      <td>1507</td>\n",
       "      <td>2024-04-08 09:34:00-04:00</td>\n",
       "      <td>-1.010</td>\n",
       "    </tr>\n",
       "    <tr>\n",
       "      <th>...</th>\n",
       "      <th>...</th>\n",
       "      <th>...</th>\n",
       "      <td>...</td>\n",
       "      <td>...</td>\n",
       "      <td>...</td>\n",
       "      <td>...</td>\n",
       "      <td>...</td>\n",
       "      <td>...</td>\n",
       "      <td>...</td>\n",
       "    </tr>\n",
       "    <tr>\n",
       "      <th rowspan=\"5\" valign=\"top\">ZTS</th>\n",
       "      <th rowspan=\"5\" valign=\"top\">2024-04-19</th>\n",
       "      <th>1108850</th>\n",
       "      <td>146.400</td>\n",
       "      <td>146.440</td>\n",
       "      <td>146.380</td>\n",
       "      <td>146.395</td>\n",
       "      <td>24725</td>\n",
       "      <td>2024-04-19 15:56:00-04:00</td>\n",
       "      <td>0.000</td>\n",
       "    </tr>\n",
       "    <tr>\n",
       "      <th>1108851</th>\n",
       "      <td>146.390</td>\n",
       "      <td>146.400</td>\n",
       "      <td>146.220</td>\n",
       "      <td>146.395</td>\n",
       "      <td>58488</td>\n",
       "      <td>2024-04-19 15:57:00-04:00</td>\n",
       "      <td>0.000</td>\n",
       "    </tr>\n",
       "    <tr>\n",
       "      <th>1108852</th>\n",
       "      <td>146.395</td>\n",
       "      <td>146.430</td>\n",
       "      <td>146.275</td>\n",
       "      <td>146.380</td>\n",
       "      <td>65654</td>\n",
       "      <td>2024-04-19 15:58:00-04:00</td>\n",
       "      <td>0.015</td>\n",
       "    </tr>\n",
       "    <tr>\n",
       "      <th>1108853</th>\n",
       "      <td>146.380</td>\n",
       "      <td>146.580</td>\n",
       "      <td>146.220</td>\n",
       "      <td>146.490</td>\n",
       "      <td>123368</td>\n",
       "      <td>2024-04-19 15:59:00-04:00</td>\n",
       "      <td>-0.095</td>\n",
       "    </tr>\n",
       "    <tr>\n",
       "      <th>1108854</th>\n",
       "      <td>146.500</td>\n",
       "      <td>146.500</td>\n",
       "      <td>146.500</td>\n",
       "      <td>146.500</td>\n",
       "      <td>480428</td>\n",
       "      <td>2024-04-19 16:00:00-04:00</td>\n",
       "      <td>-0.105</td>\n",
       "    </tr>\n",
       "  </tbody>\n",
       "</table>\n",
       "<p>1702619 rows × 7 columns</p>\n",
       "</div>"
      ],
      "text/plain": [
       "                            open     high      low    close  volume  \\\n",
       "name date                                                             \n",
       "A    2024-04-08 222111   143.800  144.360  143.010  143.600   18409   \n",
       "                222112   143.985  143.985  143.390  143.720    2000   \n",
       "                222113   143.720  144.540  143.720  144.540    2300   \n",
       "                222114   144.900  145.200  144.570  145.150    9806   \n",
       "                222115   144.805  145.790  144.805  145.570    1507   \n",
       "...                          ...      ...      ...      ...     ...   \n",
       "ZTS  2024-04-19 1108850  146.400  146.440  146.380  146.395   24725   \n",
       "                1108851  146.390  146.400  146.220  146.395   58488   \n",
       "                1108852  146.395  146.430  146.275  146.380   65654   \n",
       "                1108853  146.380  146.580  146.220  146.490  123368   \n",
       "                1108854  146.500  146.500  146.500  146.500  480428   \n",
       "\n",
       "                                         datetime  price_diff  \n",
       "name date                                                      \n",
       "A    2024-04-08 222111  2024-04-08 09:30:00-04:00       0.960  \n",
       "                222112  2024-04-08 09:31:00-04:00       0.840  \n",
       "                222113  2024-04-08 09:32:00-04:00       0.020  \n",
       "                222114  2024-04-08 09:33:00-04:00      -0.590  \n",
       "                222115  2024-04-08 09:34:00-04:00      -1.010  \n",
       "...                                           ...         ...  \n",
       "ZTS  2024-04-19 1108850 2024-04-19 15:56:00-04:00       0.000  \n",
       "                1108851 2024-04-19 15:57:00-04:00       0.000  \n",
       "                1108852 2024-04-19 15:58:00-04:00       0.015  \n",
       "                1108853 2024-04-19 15:59:00-04:00      -0.095  \n",
       "                1108854 2024-04-19 16:00:00-04:00      -0.105  \n",
       "\n",
       "[1702619 rows x 7 columns]"
      ]
     },
     "execution_count": 116,
     "metadata": {},
     "output_type": "execute_result"
    }
   ],
   "source": [
    "# Group by stock and date to handle each stock's data separately for each day\n",
    "grouped = df_market.groupby(['name', 'date'])\n",
    "\n",
    "# Function to calculate the difference with the last minute's price of the day\n",
    "def calculate_difference(group):\n",
    "    last_price = group['close'].iloc[-5]\n",
    "    group['price_diff'] = last_price - group['close']\n",
    "    return group\n",
    "\n",
    "# Apply the function to each group\n",
    "df_with_diff = grouped.apply(calculate_difference, include_groups=False)\n",
    "df_with_diff"
   ]
  },
  {
   "cell_type": "code",
   "execution_count": 207,
   "metadata": {},
   "outputs": [],
   "source": [
    "def getgain(target):\n",
    "    df = df_with_diff.loc[target].copy()\n",
    "    for date,day in df.groupby('date'):\n",
    "        missed = day['high'] < 0.02 + day['open']\n",
    "        eodgain = day['close'].iloc[-1] - day['open']\n",
    "        df.loc[date,'eodgain'] = eodgain\n",
    "        df.loc[date,'missed']= missed\n",
    "        df.loc[date,'eodmiss'] = missed*eodgain\n",
    "    return df"
   ]
  },
  {
   "cell_type": "code",
   "execution_count": 229,
   "metadata": {},
   "outputs": [
    {
     "name": "stdout",
     "output_type": "stream",
     "text": [
      "-570.4325\n"
     ]
    }
   ],
   "source": [
    "df = getgain(\"MSFT\")\n",
    "loss_miss = (df['eodgain'] * df['missed']).sum()\n",
    "gain = 0.02 * (1- df['missed'].sum())\n",
    "\n",
    "miss = df['missed'].mean()\n",
    "\n",
    "print(gain+loss_miss)"
   ]
  },
  {
   "cell_type": "code",
   "execution_count": 230,
   "metadata": {},
   "outputs": [
    {
     "data": {
      "text/plain": [
       "date\n",
       "2024-04-08    -160.9297\n",
       "2024-04-09     855.3855\n",
       "2024-04-10     711.6668\n",
       "2024-04-11     604.1067\n",
       "2024-04-12       8.6027\n",
       "2024-04-15   -2361.5512\n",
       "2024-04-16    -605.4223\n",
       "2024-04-17    -623.1416\n",
       "2024-04-18   -1645.2853\n",
       "2024-04-19    -546.3844\n",
       "Name: eodgain, dtype: float64"
      ]
     },
     "execution_count": 230,
     "metadata": {},
     "output_type": "execute_result"
    }
   ],
   "source": [
    "df.groupby('date')['eodgain'].sum()"
   ]
  },
  {
   "cell_type": "code",
   "execution_count": 235,
   "metadata": {},
   "outputs": [
    {
     "data": {
      "text/plain": [
       "-3762.952800000002"
      ]
     },
     "execution_count": 235,
     "metadata": {},
     "output_type": "execute_result"
    }
   ],
   "source": [
    "df.groupby('date')['eodgain'].sum().sum()"
   ]
  },
  {
   "cell_type": "code",
   "execution_count": 237,
   "metadata": {},
   "outputs": [
    {
     "data": {
      "text/plain": [
       "-25.68594931034471"
      ]
     },
     "execution_count": 237,
     "metadata": {},
     "output_type": "execute_result"
    }
   ],
   "source": [
    "df['close'].iloc[-30:-1].mean()  - df['close'].iloc[0:30].mean()"
   ]
  },
  {
   "cell_type": "code",
   "execution_count": 238,
   "metadata": {},
   "outputs": [
    {
     "data": {
      "text/plain": [
       "-0.9623920204603583"
      ]
     },
     "execution_count": 238,
     "metadata": {},
     "output_type": "execute_result"
    }
   ],
   "source": [
    "df['eodgain'].mean()"
   ]
  },
  {
   "cell_type": "code",
   "execution_count": null,
   "metadata": {},
   "outputs": [],
   "source": []
  }
 ],
 "metadata": {
  "kernelspec": {
   "display_name": "default",
   "language": "python",
   "name": "python3"
  },
  "language_info": {
   "codemirror_mode": {
    "name": "ipython",
    "version": 3
   },
   "file_extension": ".py",
   "mimetype": "text/x-python",
   "name": "python",
   "nbconvert_exporter": "python",
   "pygments_lexer": "ipython3",
   "version": "3.11.9"
  }
 },
 "nbformat": 4,
 "nbformat_minor": 2
}
